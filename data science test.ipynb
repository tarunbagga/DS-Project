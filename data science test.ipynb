{
 "cells": [
  {
   "cell_type": "code",
   "execution_count": 109,
   "metadata": {},
   "outputs": [],
   "source": [
    "import os\n",
    "import csv\n",
    "import time\n",
    "import re\n",
    "def print_directory_contents(sPath,flname): \n",
    "    file_list = []\n",
    "    for sChild in os.listdir(sPath):                \n",
    "        sChildPath = os.path.join(sPath,sChild)\n",
    "        if os.path.isdir(sChildPath):\n",
    "            print_directory_contents(sChildPath,flname)\n",
    "        else:\n",
    "            print(sChildPath)\n",
    "            #(mode, ino, dev, nlink, uid, gid, size, atime, mtime, ctime)=os.stat(sChildPath)\n",
    "            file_list.append([sChild,re.split('[.]',sChild)[1],size,time.ctime(atime),time.ctime(mtime),time.ctime(ctime)]) #[file,most_recent_access,created]\n",
    "            #ownername = pwd.getpwuid(st.st_uid).pw_name\n",
    "\n",
    "     #pseudocode\n",
    "    #put the metedata per line\n",
    "    # create a new file, \n",
    "    #open to write mode, \n",
    "    #because we're creating a file object we open with newline=''\n",
    "    \n",
    "    file_count = 0\n",
    "    with open(flname +'.csv', 'w', newline='') as csvfile:\n",
    "\n",
    "        # include the names for each column/feature\n",
    "        fieldnames = ['number','file','type','size(KB)','most_recent_access','modified','created']\n",
    "\n",
    "        # create a writer object that takes the csv file and fieldnames as parameters.\n",
    "        thewriter = csv.DictWriter(csvfile, fieldnames=fieldnames)\n",
    "\n",
    "        # this writer the fieldnames to the file, \n",
    "        thewriter.writeheader()\n",
    "\n",
    "        for file in file_list:\n",
    "            file_count += 1\n",
    "            thewriter.writerow({'number':file_count, 'file': file[0],'type':file[1], 'size(KB)': file[2]/1024 , 'most_recent_access': file[3], 'modified': file[4], 'created': file[5]})"
   ]
  },
  {
   "cell_type": "code",
   "execution_count": 110,
   "metadata": {},
   "outputs": [
    {
     "name": "stdout",
     "output_type": "stream",
     "text": [
      "C:\\Users\\Acer\\Documents\\func_test\\Topic Modelling - Copy.pptx\n",
      "C:\\Users\\Acer\\Documents\\func_test\\Topic Modelling.pdf\n",
      "C:\\Users\\Acer\\Documents\\func_test\\Topic Modelling.pptx\n"
     ]
    }
   ],
   "source": [
    "print_directory_contents(r'C:\\Users\\Acer\\Documents\\func_test','test123.csv')"
   ]
  },
  {
   "cell_type": "code",
   "execution_count": 15,
   "metadata": {},
   "outputs": [],
   "source": [
    "import csv\n",
    "\n",
    "colours = {\"red\", \"blue\", \"yellow\", \"green\"}\n",
    "colour_count = 0\n",
    "\n",
    "#put the metedata per line\n",
    "# create a new file, \n",
    "#open to write mode, \n",
    "#because we're creating a file object we open with newline=''\n",
    "with open('tutorial.csv', 'w', newline='') as csvfile:\n",
    "    \n",
    "    # include the names for each column/feature\n",
    "    fieldnames = ['number','colour']\n",
    "    \n",
    "    # create a writer object that takes the csv file and fieldnames as parameters.\n",
    "    thewriter = csv.DictWriter(csvfile, fieldnames=fieldnames)\n",
    "    \n",
    "    # this writer the fieldnames to the file, i.e 'number' and 'colour'\n",
    "    thewriter.writeheader()\n",
    "    \n",
    "    for colour in colours:\n",
    "        colour_count += 1\n",
    "        thewriter.writerow({'number':colour_count, 'colour': colour})"
   ]
  },
  {
   "cell_type": "code",
   "execution_count": 104,
   "metadata": {},
   "outputs": [],
   "source": [
    "matrix = [[\"a\", \"b\", 1, \"d\", 1, \"f\"],\n",
    "          [\"b\", \"c\", \"d\", \"e\",\"f\", \"a\"],\n",
    "          [2, \"d\", \"e\", \"f\", \"a\", \"b\"],\n",
    "          [\"d\", \"e\", \"f\", \"a\", \"b\", \"c\"],\n",
    "          [\"e\", \"f\", \"a\", 3, \"c\", \"d\"],\n",
    "          [\"f\", \"a\", \"b\", \"c\", \"d\", \"e\"]]\n",
    "\n",
    "\n",
    "def matrix_ops(matrix):\n",
    "\n",
    "    #matrox given  with size m X n\n",
    "    m = len(matrix)\n",
    "    n = len(matrix[0])\n",
    "\n",
    "    for i in range(m):\n",
    "        for j in range(n):\n",
    "            if matrix[i][j] == 1 and i==0:\n",
    "                matrix[i][j] = matrix[i+1][j]\n",
    "            if matrix[i][j] == 2 and i==2:\n",
    "                matrix[i][j] = matrix[i-1][j]\n",
    "            if matrix[i][j] == 3 and i==4:\n",
    "                matrix[i][j] = matrix[0][0] + matrix[0][n - 1] + matrix[m - 1][0] + matrix[m - 1][n - 1]\n",
    "\n",
    "    return matrix\n",
    "\n",
    "new_matrix = matrix_ops(matrix)"
   ]
  },
  {
   "cell_type": "code",
   "execution_count": 105,
   "metadata": {},
   "outputs": [
    {
     "data": {
      "text/plain": [
       "[['a', 'b', 'd', 'd', 'f', 'f'],\n",
       " ['b', 'c', 'd', 'e', 'f', 'a'],\n",
       " ['b', 'd', 'e', 'f', 'a', 'b'],\n",
       " ['d', 'e', 'f', 'a', 'b', 'c'],\n",
       " ['e', 'f', 'a', 'affe', 'c', 'd'],\n",
       " ['f', 'a', 'b', 'c', 'd', 'e']]"
      ]
     },
     "execution_count": 105,
     "metadata": {},
     "output_type": "execute_result"
    }
   ],
   "source": [
    "new_matrix"
   ]
  },
  {
   "cell_type": "code",
   "execution_count": null,
   "metadata": {},
   "outputs": [],
   "source": []
  }
 ],
 "metadata": {
  "kernelspec": {
   "display_name": "Python 3",
   "language": "python",
   "name": "python3"
  },
  "language_info": {
   "codemirror_mode": {
    "name": "ipython",
    "version": 3
   },
   "file_extension": ".py",
   "mimetype": "text/x-python",
   "name": "python",
   "nbconvert_exporter": "python",
   "pygments_lexer": "ipython3",
   "version": "3.7.6"
  }
 },
 "nbformat": 4,
 "nbformat_minor": 4
}
